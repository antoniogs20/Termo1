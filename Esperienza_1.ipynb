{
 "cells": [
  {
   "cell_type": "code",
   "execution_count": 110,
   "metadata": {},
   "outputs": [],
   "source": [
    "from pylab import *\n",
    "from scipy.optimize import leastsq, curve_fit\n",
    "from IPython.lib.display import YouTubeVideo\n",
    "%matplotlib inline"
   ]
  },
  {
   "cell_type": "markdown",
   "metadata": {},
   "source": [
    "# Esperienza 1: Termometria\n",
    "**Data**: 22 Ottobre 2018  \n",
    "**Gruppo**: (Z) R.Di Leonardo, F.Saglimbeni"
   ]
  },
  {
   "cell_type": "markdown",
   "metadata": {},
   "source": [
    "## Materiale\n",
    "\n",
    "\n",
    "|Num.  |Descrizione  |Caratteristiche |\n",
    "|----:|:-----------|:-----------|\n",
    "|2|Termometri a mercurio| $0.2^\\circ C$ per divisione|\n",
    "|2|Bilance| max. XX Kg, $0.1$ g per divisione|\n",
    "|2|Calorimetri| Dewar max. 1 L (?), tappo e agitatore|\n",
    "|1|Cronometro||\n"
   ]
  },
  {
   "cell_type": "markdown",
   "metadata": {},
   "source": [
    "## 1. Costante di tempo del calorimetro\n",
    "\n",
    "### Relazioni di base per il processo ideale\n",
    "$$T(t)=T_{amb}+(T(0)-T_{amb}) e ^{-\\frac{t}{\\tau}}\\sim T_{amb}+(T(0)-T_{amb})\\left(1-\\frac{t}{\\tau}\\right)$$\n",
    "\n",
    "### Procedura\n",
    "1. Versiamo nel calorimetro una quantità d'acqua (circa 400 g) alla temperatura di $\\sim 50^\\circ C$\n",
    "2. Immergiamo termometro attraverso il buco sul tappo\n",
    "3. Registriamo la temperatura a intervalli di tempo di pochi minuti\n",
    "\n",
    "### Dati\n",
    "\n",
    "`tmin`: tempo minuti  \n",
    "`tsec`: tempo secondi  \n",
    "`t`: tempo (min)  \n",
    "`T`: temperatura ( $^\\circ C$ )  \n",
    "`DT`: risoluzione del termometro"
   ]
  },
  {
   "cell_type": "code",
   "execution_count": 111,
   "metadata": {},
   "outputs": [
    {
     "data": {
      "text/plain": [
       "array([[  0. ,   4. ,   7. ,  10. ,  15. ],\n",
       "       [  0. ,  24. ,  33. ,  57. ,  24. ],\n",
       "       [ 52.4,  52.2,  52. ,  51.8,  51.6]])"
      ]
     },
     "execution_count": 111,
     "metadata": {},
     "output_type": "execute_result"
    }
   ],
   "source": [
    "transpose(loadtxt(\"taucaldata.txt\"))"
   ]
  },
  {
   "cell_type": "code",
   "execution_count": 134,
   "metadata": {
    "collapsed": true
   },
   "outputs": [],
   "source": [
    "tmin, tsec, T = transpose(loadtxt(\"taucaldata.txt\"))\n",
    "t = tmin+tsec/60\n",
    "DT = 0.2\n",
    "Tamb=25"
   ]
  },
  {
   "cell_type": "code",
   "execution_count": 135,
   "metadata": {},
   "outputs": [
    {
     "data": {
      "text/plain": [
       "<matplotlib.text.Text at 0x11b475c18>"
      ]
     },
     "execution_count": 135,
     "metadata": {},
     "output_type": "execute_result"
    },
    {
     "data": {
      "image/png": "[encoded data removed]",
      "text/plain": [
       "<matplotlib.figure.Figure at 0x11beff630>"
      ]
     },
     "metadata": {
      "image/png": {
       "height": 267,
       "width": 400
      }
     },
     "output_type": "display_data"
    }
   ],
   "source": [
    "errorbar(t,T, yerr=DT/2, fmt=\"o\")\n",
    "p=polyfit(t,T,1)\n",
    "plot(t,polyval(p,t))\n",
    "xlabel(\"t (min)\")\n",
    "ylabel(\"T ($\\mathrm{^\\circ C}$)\")"
   ]
  },
  {
   "cell_type": "markdown",
   "metadata": {},
   "source": [
    "Per il calcolo delle incertezze sui parametri di fit (e molto altro) un buon testo e' [Numerical Recipes in C](http://apps.nrbook.com/c/index.html)"
   ]
  },
  {
   "cell_type": "code",
   "execution_count": 114,
   "metadata": {},
   "outputs": [
    {
     "name": "stdout",
     "output_type": "stream",
     "text": [
      "tau = 9 hours\n"
     ]
    }
   ],
   "source": [
    "tau = -(T[0]-Tamb)/p[0]\n",
    "print(\"tau = %.0f hours\" % (tau/60))"
   ]
  },
  {
   "cell_type": "markdown",
   "metadata": {},
   "source": [
    "Dopo quanto tempo (min) l'errore sistematico supera 0.1 $^\\circ C$?"
   ]
  },
  {
   "cell_type": "code",
   "execution_count": 115,
   "metadata": {},
   "outputs": [
    {
     "data": {
      "text/plain": [
       "2.7036481364052598"
      ]
     },
     "execution_count": 115,
     "metadata": {},
     "output_type": "execute_result"
    }
   ],
   "source": [
    "0.1/(44-Tamb)*tau"
   ]
  },
  {
   "cell_type": "markdown",
   "metadata": {},
   "source": [
    "## 2. Costante di tempo del termometro\n",
    "\n",
    "### Relazioni di base per il processo ideale\n",
    "$$T(t)=T_{amb}+(T(0)-T_{amb}) e ^{-\\frac{t}{\\tau}}$$\n",
    "\n",
    "### Procedura\n",
    "1. Versiamo nel calorimetro una quantità d'acqua (circa 400 g) alla temperatura di $\\sim 50^\\circ C$\n",
    "2. Immergiamo termometro nel calorimetro\n",
    "3. Registriamo la temperatura sul termometro mediante un video a 30 fps\n",
    "\n",
    "### Dati\n",
    "\n",
    "`i`: indice del frame  \n",
    "`fps` : framerate  \n",
    "`t`: tempo (s)  \n",
    "`T`: temperatura ( $^\\circ C$ )  \n",
    "`DT`: risoluzione del termometro (distanza tra due tacche)  \n",
    "`sT`: incertezza (deviazione standard) su T"
   ]
  },
  {
   "cell_type": "code",
   "execution_count": 116,
   "metadata": {},
   "outputs": [
    {
     "data": {
      "image/jpeg": "[encoded data removed]",
      "text/html": [
       "\n",
       "        <iframe\n",
       "            width=\"400\"\n",
       "            height=\"300\"\n",
       "            src=\"https://www.youtube.com/embed/7yCxo5OwBIw\"\n",
       "            frameborder=\"0\"\n",
       "            allowfullscreen\n",
       "        ></iframe>\n",
       "        "
      ],
      "text/plain": [
       "<IPython.lib.display.YouTubeVideo at 0x11aa300b8>"
      ]
     },
     "execution_count": 116,
     "metadata": {},
     "output_type": "execute_result"
    }
   ],
   "source": [
    "YouTubeVideo('7yCxo5OwBIw')"
   ]
  },
  {
   "cell_type": "code",
   "execution_count": 117,
   "metadata": {
    "collapsed": true
   },
   "outputs": [],
   "source": [
    "fps=30\n",
    "i=array([91,96,102,108,116,135,157,185,209,241,302,365,469,681])\n",
    "T=array([28.1,29,30,31,32,34,36,38,40,42,44,45,46,47])\n",
    "DT = .2\n",
    "sT = DT/sqrt(12)\n",
    "\n",
    "t=i/fps\n",
    "t=t-t[0]"
   ]
  },
  {
   "cell_type": "code",
   "execution_count": 118,
   "metadata": {
    "collapsed": true
   },
   "outputs": [],
   "source": [
    "def expofun(x, tau, T0, DeltaT):\n",
    "    return T0-DeltaT*exp(-x/tau)"
   ]
  },
  {
   "cell_type": "code",
   "execution_count": 119,
   "metadata": {},
   "outputs": [],
   "source": [
    "p, pcov = curve_fit(expofun, t, T, p0=[5, 48, 20], sigma = sT , absolute_sigma = True)\n",
    "tau, T0, DeltaT = p"
   ]
  },
  {
   "cell_type": "markdown",
   "metadata": {},
   "source": [
    "`pcov` è la matrice di covarianza dei parametri ovvero:  \n",
    "se generiamo nuovi dati sperimentali aggiungendo alle temperature `T` un errore gaussiano con deviazione standard `sT` e fittiamo questi nuovi dati sintetici, i parametri di fit saranno distribuiti con la matrice di covarianza `pcov`.  \n",
    "In particolare la varianza dei valori ottenuti da questi fit per il primo parametro `tau` è stimata da `pcov[0,0]` mentre la deviazione standard da `sqrt(pcov[0,0])`.  \n",
    "Per una discussione approfondita si veda \"Numerical Recipes in C\"."
   ]
  },
  {
   "cell_type": "code",
   "execution_count": 120,
   "metadata": {},
   "outputs": [
    {
     "name": "stdout",
     "output_type": "stream",
     "text": [
      "tau = 4.02 +/- 0.03 s\n"
     ]
    }
   ],
   "source": [
    "print(\"tau = %.2f +/- %.2f s\" % (tau, sqrt(pcov[0,0])))"
   ]
  },
  {
   "cell_type": "code",
   "execution_count": 121,
   "metadata": {},
   "outputs": [
    {
     "data": {
      "text/plain": [
       "<matplotlib.text.Text at 0x11b3d7898>"
      ]
     },
     "execution_count": 121,
     "metadata": {},
     "output_type": "execute_result"
    },
    {
     "data": {
      "image/png": "[encoded data removed]",
      "text/plain": [
       "<matplotlib.figure.Figure at 0x11bfde630>"
      ]
     },
     "metadata": {
      "image/png": {
       "height": 267,
       "width": 398
      }
     },
     "output_type": "display_data"
    }
   ],
   "source": [
    "plot(t, T, \"o\")\n",
    "plot(t, expofun(t, tau, T0, DeltaT))\n",
    "xlabel(\"t (s)\")\n",
    "ylabel(\"T ($^\\circ$C)\")"
   ]
  },
  {
   "cell_type": "markdown",
   "metadata": {},
   "source": [
    "**Nota**  \n",
    "È possibile stimare il valore di $\\tau$ utilizzando la legge di Newton per il raffreddamento [lezione7](https://elearning.uniroma1.it/pluginfile.php/718731/mod_resource/content/3/Lecture-07.pdf)\n",
    "\n",
    "$$\\tau=\\frac{C}{h A}$$\n",
    "\n",
    "Dai valori:\n",
    "\n",
    "$c$ = 140 J/Kg K  (calore specifico del mercurio)  \n",
    "$\\rho$ = 1.3 10$^4$ Kg/m$^3$ (densità del mercurio)  \n",
    "$d$= 6 mm (diametro esterno del bulbo, stiamo trascurando la presenza del vetro)  \n",
    "$l$ = 11 mm (altezza del bulbo)  \n",
    "$h$ = 750 W/m$^2$K (coefficiente di convezione in acqua statica) \n",
    "\n",
    "otteniamo:\n",
    "\n",
    "$$\\tau=3.6\\;s$$"
   ]
  },
  {
   "cell_type": "markdown",
   "metadata": {},
   "source": [
    "## 3. Calore specifico"
   ]
  },
  {
   "cell_type": "markdown",
   "metadata": {},
   "source": [
    "### Relazioni di base per il processo ideale\n",
    "\n",
    "Due sistemi termodinamici di masse $m_1, m_2$ e calori specifici $c_1, c_2$ si trovano inizialmente in due recipienti separati (di cui almeno uno un calorimetro) alle due temperature iniziali $T_1, T_2$. I due sistemi vegono \"mescolati\" all'interno di uno stesso calorimetro e raggiungono una temperatura comune di equilibrio $T_e$. Dette $Q_1$ e $Q_2$ le quantità di calore assorbite dai due sistemi nel corso della trasformazione dal primo principio otteniamo:\n",
    "\n",
    "$$\\Delta U=\\Delta U_1+\\Delta U_2=Q_1-L_1+Q_2-L_2=0$$\n",
    "\n",
    "Poichè durante la trasformazione il sistema composto non compie lavoro $L_1+L_2=0$ da cui $Q_1+Q_2=0$.\n",
    "Nel caso in cui:\n",
    "* i due sistemi non cambiano fase durante la trasformazione \n",
    "* i due calori specifici sono costanti nei rispettivi intervalli di temperatura attraversati dai due sistemi\n",
    "si ha:\n",
    "\n",
    "$$Q_1=C_1 (T_e-T_1)$$\n",
    "$$Q_2=C_2 (T_e-T_2)$$\n",
    "\n",
    "imponendo $Q_1+Q_2=0$ e risolvendo per il calore specifico incognito, e.g. $C_2$:\n",
    "\n",
    "$$ \n",
    "C_2 = C_1 \\frac{T_1-T_e}{T_e-T_2} \n",
    "$$"
   ]
  },
  {
   "cell_type": "markdown",
   "metadata": {
    "collapsed": true
   },
   "source": [
    "### Possibili cause di errore sistematico\n",
    "\n",
    "1. perdite di calore durante l'apertura del calorimetro prima del mescolamento\n",
    "1. non adiabaticità del calorimetro (perdite di calore verso l'ambiente anche a calorimetro chiuso)\n",
    "1. variazioni di temperatura di uno dei due corpi subite durante il trasporto prima del mescolamento\n",
    "1. taratura degli strumenti"
   ]
  },
  {
   "cell_type": "markdown",
   "metadata": {},
   "source": [
    "### Procedura\n",
    "\n",
    "Per minimizzare gli errori sistematici di tipo 1. (vedi sopra) proponiamo una procedura che non richiede l'apertura del tappo del calorimetro principale:\n",
    "\n",
    "1. In uno dei due calorimetri (detto principale) immergiamo il materiale di calore specifico incognito $c$ in un bagno di acqua calda alla temperatura $T_1$.\n",
    "2. In un recipiente esterno (bottiglia di plastica) versiamo acqua fredda alla temperatura $T_2$.\n",
    "3. Registriamo le due temperature misurate per mezzo di due termometri distinti.\n",
    "4. Con l'aiuto di un imbuto di carta versiamo rapidamente acqua fredda attraverso uno dei buchi presenti sul tappo del calorimetro principale fino a che la temperatura letta sul termometro del calorimetro principale si porti approssimativamente a metà tra $T_1$ e $T_2$ \n",
    "5. Registriamo la temperatura \"di equilibrio\" $T_e$ del calorimetro principale.\n",
    "\n",
    "#### Possibili miglioramenti\n",
    "1. Sostituire la bottiglia di plastica con un recipiente con migliore isolamento termico\n",
    "2. Dopo il mesolamento, registrare la temperatura del calorimetro a intervalli regolari per estrarre la temperatura di equilibrio da una procedura di estrapolazione a $t=0$."
   ]
  },
  {
   "cell_type": "markdown",
   "metadata": {},
   "source": [
    "### Dati\n",
    "Tutte le masse sono espresse in grammi e le temperature in gradi centigradi e i calori specifici in J/C/g\n",
    "\n",
    "`mcalo`: massa calorimetro vuoto  \n",
    "`mo`: massa totale due oggetti  \n",
    "`mc`: massa iniziale acqua calda nel calorimetro  \n",
    "\n",
    "`mf1`: prima massa di acqua fredda versata  \n",
    "`mf2`: seconda massa di acqua fredda versata\n",
    "\n",
    "`Te1`: temperatura di equilibrio dopo aver versato `mf1`  \n",
    "`Te2`: temperatura di equilibrio dopo aver versato `mf2`\n",
    "\n",
    "`ca`: calore specifico acqua"
   ]
  },
  {
   "cell_type": "code",
   "execution_count": 122,
   "metadata": {},
   "outputs": [
    {
     "name": "stdout",
     "output_type": "stream",
     "text": [
      "mc = 265.70 g\n",
      "mf1 = 108.80 g\n",
      "mf2 = 161.90 g\n"
     ]
    }
   ],
   "source": [
    "mcalo=690.1\n",
    "mc=955.8-mcalo\n",
    "print(\"mc = %.2f g\" % mc)\n",
    "\n",
    "mo=389.9\n",
    "\n",
    "mf1=524.9-416.1\n",
    "mf2=416.1-254.2\n",
    "print(\"mf1 = %.2f g\" % mf1)\n",
    "print(\"mf2 = %.2f g\" % mf2)\n",
    "\n",
    "T1=51.6\n",
    "T2=20.6\n",
    "Te1=44\n",
    "Te2=37.8"
   ]
  },
  {
   "cell_type": "markdown",
   "metadata": {},
   "source": [
    "Calore specifico acqua\n",
    "![water](https://syeilendrapramuditya.files.wordpress.com/2011/08/water_specific_heat_capacity_vs_temperature.gif?w=500&h=300)"
   ]
  },
  {
   "cell_type": "code",
   "execution_count": 123,
   "metadata": {
    "collapsed": true
   },
   "outputs": [],
   "source": [
    "ca = 4.18"
   ]
  },
  {
   "cell_type": "markdown",
   "metadata": {},
   "source": [
    "#### Primo versamento\n",
    "La capacità termica del contenuto del calorimetro prima di versare l'acqua fredda è:"
   ]
  },
  {
   "cell_type": "code",
   "execution_count": 124,
   "metadata": {},
   "outputs": [
    {
     "name": "stdout",
     "output_type": "stream",
     "text": [
      "1400.255999999999 J/C\n"
     ]
    }
   ],
   "source": [
    "r=(Te1-T2)/(T1-Te1)\n",
    "C1 = ca*mf1*r\n",
    "print(C1,\"J/C\")"
   ]
  },
  {
   "cell_type": "markdown",
   "metadata": {},
   "source": [
    "di cui `C1a` sono dovuti alla massa d'acqua `mc`:"
   ]
  },
  {
   "cell_type": "code",
   "execution_count": 125,
   "metadata": {},
   "outputs": [
    {
     "name": "stdout",
     "output_type": "stream",
     "text": [
      "1110.6259999999997 J/C\n"
     ]
    }
   ],
   "source": [
    "C1a = mc*ca\n",
    "print(C1a,\"J/C\")"
   ]
  },
  {
   "cell_type": "markdown",
   "metadata": {},
   "source": [
    "e `C1b` all'equivalente in acqua del calorimetro `me`"
   ]
  },
  {
   "cell_type": "code",
   "execution_count": 126,
   "metadata": {},
   "outputs": [
    {
     "name": "stdout",
     "output_type": "stream",
     "text": [
      "141.0332 J/C\n"
     ]
    }
   ],
   "source": [
    "me = 33.74\n",
    "sme=2.0\n",
    "C1b = ca*me\n",
    "print(C1b, \"J/C\")"
   ]
  },
  {
   "cell_type": "markdown",
   "metadata": {},
   "source": [
    "Da cui otteniamo per il calore specifico dell'oggetto:"
   ]
  },
  {
   "cell_type": "code",
   "execution_count": 127,
   "metadata": {},
   "outputs": [
    {
     "name": "stdout",
     "output_type": "stream",
     "text": [
      "0.381 J/C/g\n"
     ]
    }
   ],
   "source": [
    "co1=(C1-C1a-C1b)/mo\n",
    "print(\"%.3f J/C/g\" % co1)"
   ]
  },
  {
   "cell_type": "markdown",
   "metadata": {},
   "source": [
    "L'incertezza su `co1` sarà data da:"
   ]
  },
  {
   "cell_type": "code",
   "execution_count": 128,
   "metadata": {},
   "outputs": [
    {
     "name": "stdout",
     "output_type": "stream",
     "text": [
      "calore specifico: 0.38 +/- 0.05 J/C/g\n"
     ]
    }
   ],
   "source": [
    "sT=.2/sqrt(12)\n",
    "sr=sT*r*sqrt(1/(T1-Te1)**2+1/(Te1-T2)**2+(T1-T2)**2/(Te1-T2)**2/(T1-Te1)**2)\n",
    "sco1=sqrt((ca*mf1*sr)**2+(ca*sme)**2)/mo\n",
    "print(\"calore specifico: %.2f +/- %.2f J/C/g\" % (co1, sco1))"
   ]
  },
  {
   "cell_type": "markdown",
   "metadata": {},
   "source": [
    "#### Secondo versamento\n",
    "La capacità termica del contenuto del calorimetro prima di versare l'acqua fredda è:"
   ]
  },
  {
   "cell_type": "code",
   "execution_count": 129,
   "metadata": {},
   "outputs": [
    {
     "name": "stdout",
     "output_type": "stream",
     "text": [
      "1410.3077681159411 J/C\n"
     ]
    }
   ],
   "source": [
    "r=(Te2-T2)/(T1-Te2)\n",
    "C2 = ca*(mf1+mf2)*r\n",
    "print(C2,\"J/C\")"
   ]
  },
  {
   "cell_type": "markdown",
   "metadata": {},
   "source": [
    "Da cui otteniamo per il calore specifico dell'oggetto:"
   ]
  },
  {
   "cell_type": "code",
   "execution_count": 130,
   "metadata": {},
   "outputs": [
    {
     "name": "stdout",
     "output_type": "stream",
     "text": [
      "calore specifico: 0.41 +/- 0.04 J/C/g\n"
     ]
    }
   ],
   "source": [
    "co2=(C2-C1a-C1b)/mo\n",
    "sr=sT*r*sqrt(1/(T1-Te2)**2+1/(Te2-T2)**2+(T1-T2)**2/(Te2-T2)**2/(T1-Te2)**2)\n",
    "sco2=sqrt((ca*(mf1+mf2)*sr)**2+(ca*sme)**2)/mo\n",
    "print(\"calore specifico: %.2f +/- %.2f J/C/g\" % (co2, sco2))"
   ]
  },
  {
   "cell_type": "code",
   "execution_count": 131,
   "metadata": {},
   "outputs": [
    {
     "data": {
      "text/plain": [
       "<matplotlib.legend.Legend at 0x11bf50860>"
      ]
     },
     "execution_count": 131,
     "metadata": {},
     "output_type": "execute_result"
    },
    {
     "data": {
      "image/png": "[encoded data removed]",
      "text/plain": [
       "<matplotlib.figure.Figure at 0x11bcd5ef0>"
      ]
     },
     "metadata": {
      "image/png": {
       "height": 235,
       "width": 398
      }
     },
     "output_type": "display_data"
    }
   ],
   "source": [
    "errorbar([1,2],[co1,co2], yerr=[sco1,sco2], fmt=\"o\")\n",
    "ylabel(\"calore specifico (J/g$^\\circ$C)\")\n",
    "xticks([])\n",
    "xlim(.5,2.5)\n",
    "axhline(0.39, color=\"C1\", label=\"copper\")\n",
    "legend(frameon=False)"
   ]
  },
  {
   "cell_type": "markdown",
   "metadata": {},
   "source": [
    "## 4. Equivalente in acqua del calorimetro"
   ]
  },
  {
   "cell_type": "markdown",
   "metadata": {},
   "source": [
    "### Procedura\n",
    "\n",
    "1. In uno dei due calorimetri versiamo acqua calda alla temperatura $T_1$.\n",
    "2. In un recipiente esterno (bottiglia di plastica) versiamo acqua fredda alla temperatura $T_2$ e pesiamo.\n",
    "3. Registriamo le due temperature misurate per mezzo di due termometri distinti.\n",
    "4. Con l'aiuto di un imbuto di carta versiamo rapidamente acqua fredda attraverso uno dei buchi presenti sul tappo del calorimetro principale fino a che la temperatura letta sul termometro del calorimetro principale si porti approssimativamente a metà tra $T_1$ e $T_2$ \n",
    "5. Registriamo la temperatura \"di equilibrio\" $T_e$ del calorimetro principale ovvero il valore di temperatura quando le variazioni sono dell'ordine di $(T_e-T_{amb})/\\tau=0.2^\\circ/min$\n",
    "6. Pesiamo la bottiglia di nuovo per ottenere la massa di acqua versata per sottrazione"
   ]
  },
  {
   "cell_type": "markdown",
   "metadata": {},
   "source": [
    "### Dati\n",
    "Tutte le masse sono espresse in grammi, le temperature in gradi centigradi e i calori specifici in J/C/g\n",
    "\n",
    "`mcalo`: massa calorimetro vuoto  \n",
    "`m1`: massa iniziale acqua calda nel calorimetro  \n",
    "`m2`: massa di acqua fredda versata\n",
    "\n",
    "`T1`: temperatura acqua calda  \n",
    "`T2`: temperatura acqua fredda  \n",
    "`Te`: temperatura di equilibrio dopo il mescolamento\n",
    "\n",
    "`ca`: calore specifico acqua"
   ]
  },
  {
   "cell_type": "code",
   "execution_count": 132,
   "metadata": {},
   "outputs": [
    {
     "name": "stdout",
     "output_type": "stream",
     "text": [
      "m1=140 g\n",
      "m2=148 g\n",
      "Massa equivalente in acqua: 33.74 +/- 2.01 g\n"
     ]
    }
   ],
   "source": [
    "mcalo=690.1\n",
    "m1=830.2-mcalo\n",
    "m2=977.9-mcalo-m1\n",
    "print(\"m1=%.0f g\" % m1)\n",
    "print(\"m2=%.0f g\" % m2)\n",
    "\n",
    "\n",
    "T1=46.4\n",
    "T2=21.8\n",
    "Te=35.1\n",
    "\n",
    "r=(Te-T2)/(T1-Te)\n",
    "me=m2*r-m1\n",
    "\n",
    "sT=.2/sqrt(12)\n",
    "sr=sT*r*sqrt(1/(T1-Te)**2+1/(Te-T2)**2+(T1-T2)**2/(Te-T2)**2/(T1-Te)**2)\n",
    "\n",
    "sme=m2*sr\n",
    "\n",
    "print(\"Massa equivalente in acqua: %.2f +/- %.2f g\" % (me, sme)) "
   ]
  },
  {
   "cell_type": "markdown",
   "metadata": {},
   "source": [
    "**Nota**\n",
    "\n",
    "È possibile stimare l'equivalente in acqua del calorimetro $m_e$ conoscendo:  \n",
    "$m$=680 g (massa del calorimetro)  \n",
    "$c_s$ = 0.510 kJ/Kg K (calore specifico [medio](https://www.azom.com/properties.aspx?ArticleID=965) dell'acciaio)  \n",
    "$c_a$ = 4.2 kJ/Kg K (calore specifico acqua)\n",
    "\n",
    "e supponendo che solo metà del calorimetro (la parte interna) partecipi agli scambi termici:\n",
    "\n",
    "$$m_e = \\frac{c_s m/2}{c_a} = 41 g$$"
   ]
  },
  {
   "cell_type": "markdown",
   "metadata": {},
   "source": [
    "Il fatto che i valori misurati siano in genere più piccoli può essere spiegato dal riempimento solo parziale del calorimetro (non tutta la superficie interna partecipa allo stesso modo agli scambi termici)."
   ]
  },
  {
   "cell_type": "markdown",
   "metadata": {},
   "source": [
    "## Appendice\n",
    "![table](http://s3.amazonaws.com/answer-board-image/9b2a6f57-e77d-482c-bbba-928890a2867e.jpeg)"
   ]
  },
  {
   "cell_type": "markdown",
   "metadata": {},
   "source": [
    "## Referenze\n",
    "\n",
    "[1] [Guide to the expression of uncertainty in measurement](https://www.bipm.org/utils/common/documents/jcgm/JCGM_100_2008_E.pdf)"
   ]
  }
 ],
 "metadata": {
  "kernelspec": {
   "display_name": "Python 3",
   "language": "python",
   "name": "python3"
  },
  "language_info": {
   "codemirror_mode": {
    "name": "ipython",
    "version": 3
   },
   "file_extension": ".py",
   "mimetype": "text/x-python",
   "name": "python",
   "nbconvert_exporter": "python",
   "pygments_lexer": "ipython3",
   "version": "3.6.0"
  }
 },
 "nbformat": 4,
 "nbformat_minor": 2
}
