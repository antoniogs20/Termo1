{
 "cells": [
  {
   "cell_type": "code",
   "execution_count": 2,
   "metadata": {},
   "outputs": [],
   "source": [
    "import numpy as np\n",
    "import matplotlib.pyplot as plt\n",
    "from scipy.optimize import curve_fit\n",
    "from pylab import *\n",
    "from io import StringIO\n"
   ]
  },
  {
   "cell_type": "markdown",
   "metadata": {},
   "source": [
    "# Esperienza 1: Termometria e calorimetria\n",
    "**Data**: 21 Ottobre 2019 \n",
    "**Gruppo**: (V) Ivan , Antonio Gonzalez, Pietro\n"
   ]
  },
  {
   "cell_type": "markdown",
   "metadata": {},
   "source": [
    "## Materiale\n",
    "\n",
    "|Strumenti| Divisione| Portata |\n",
    "|---------:|:-----------------|:-------------|\n",
    "|2 Termometri a mercurio    |$0.2^\\circ C$    | $100^\\circ C$ |\n",
    "|Bilancia | $0.1 g$ | -- |\n",
    "|Calorimetri| -- | $1 l$ |\n",
    "|Cronometro | $0.01 s$ | |"
   ]
  },
  {
   "cell_type": "markdown",
   "metadata": {},
   "source": [
    "## 1.1 Costante di tempo del termometro\n",
    "\n",
    "### Relazioni di base per il processo ideale\n",
    "La relazione che lega la risposta del termometro al tempo è data dalla seguente formula:\n",
    "$$T(t)=T_{f}+(T_{amb}-T_{f} )e ^{-\\frac{t}{\\tau}}$$\n",
    "dove:\n",
    "- $T(t)$ rappresenta la temperatura mostrata sul termometro all'istante di tempo $t$;\n",
    "- $T_{amb}$ rappresenta la temperatura riportata sul termometro prima che questo venga inserito nel bagno di acqua cala, ovvero la temperatura al tempo $t=0$;\n",
    "- $T_{f}$ rappresenta la temperatura dell'acqua calda;\n",
    "- $\\tau$ rappresenta la costante di tempo del termometro che vogliamo stimare; \n",
    "\n",
    "### Procedimento di misura\n",
    "1. Nel primo calorimetro versiamo una quantità di acqua alla temperatura di $\\sim 54^\\circ C$, che rappresenta la nostra $T_{f}$; nel secondo una quantità di acqua a temperatura ambiente;\n",
    "2. Immergiamo il termometro nel bagno di acqua a temperatura ambiente e aspettiamo che termalizzi con l'acqua stessa; a termalizzazione avvenuta registriamo la temperatura segnata dal termometro come $T_{amb}$\n",
    "3. Immergiamo il termometro nel calorimetro con l'acqua calda e registriamo la temperatura segnta ad intervalli di tempo fissati ($0.5s$); \n",
    "\n",
    "Effettuiamo l'analisi dei dati servendoci di Python.\n",
    "### Dati\n",
    " \n",
    "`t`: tempo (s)  \n",
    "`T`: temperatura ( $^\\circ C$ )  \n",
    "`DT`: risoluzione del termometro (distanza tra due tacche)  \n",
    "`sT`: incertezza (deviazione standard) su T"
   ]
  },
  {
   "cell_type": "markdown",
   "metadata": {},
   "source": [
    "Eseguiamo un fit sui dati raccolti attraversp la funzione curve_fit della libreria scipy. curve_fit riceve in ingresso una funzione che restituisce un esponenziale, un vettore contente gli istanti di tempo ad intervalli di $0.5s$ (asse $x$), un vettore contenente le temperature registrate (asse $y$), e un vettore con lo stesso numero di elementi dei vettori precedenti e contente l'incertezza associata a ogni misura di temperatura. Assumendo una distribuizione uniforme nell'intervallo delle divisioni stimiaimo tale incertezza come $ \\frac{DT}{\\sqrt{12}} $. L'ultimo parametro di curve_fit viene dichiarato TRUE in modo da calcolare le incertezze assolute. "
   ]
  },
  {
   "cell_type": "markdown",
   "metadata": {},
   "source": [
    "#### Video 1, 1s"
   ]
  },
  {
   "cell_type": "code",
   "execution_count": 49,
   "metadata": {},
   "outputs": [
    {
     "data": {
      "image/png": "[encoded data removed]",
      "text/plain": [
       "<Figure size 432x288 with 1 Axes>"
      ]
     },
     "metadata": {
      "needs_background": "light"
     },
     "output_type": "display_data"
    },
    {
     "name": "stdout",
     "output_type": "stream",
     "text": [
      "[10.15223516 54.40966347 24.39024659]\n"
     ]
    }
   ],
   "source": [
    "s = open(\"Datos12.txt\").read().replace(\",\", \".\")\n",
    "t,T = transpose(loadtxt(StringIO(s)))\n",
    "DT= 0.2\n",
    "dS=DT/sqrt(12)*np.ones_like(T)\n",
    "def fit_func(t, tau,TF ,DeltaT):\n",
    "    return TF - DeltaT*exp(-t/tau)\n",
    "params,pcov12 = curve_fit(fit_func, t, T,sigma=dS, absolute_sigma=True)\n",
    "tau12, T0, DeltaT = params\n",
    "plot(t, T, \"o\")\n",
    "plot(t, fit_func(t, tau12, T0, DeltaT))\n",
    "xlabel(\"t (s)\")\n",
    "ylabel(\"T ($^\\circ$C)\")\n",
    "plt.show()\n",
    "print(params)\n"
   ]
  },
  {
   "cell_type": "code",
   "execution_count": 40,
   "metadata": {},
   "outputs": [
    {
     "name": "stdout",
     "output_type": "stream",
     "text": [
      "tau = 10.15 +/- 0.04 s\n"
     ]
    }
   ],
   "source": [
    "print(\"tau = %.2f +/- %.2f s\" % (tau12, sqrt(pcov12[0,0])))"
   ]
  },
  {
   "cell_type": "markdown",
   "metadata": {},
   "source": [
    "#### Video 2, 1 s"
   ]
  },
  {
   "cell_type": "code",
   "execution_count": 4,
   "metadata": {},
   "outputs": [
    {
     "data": {
      "image/png": "[encoded data removed]",
      "text/plain": [
       "<Figure size 432x288 with 1 Axes>"
      ]
     },
     "metadata": {
      "needs_background": "light"
     },
     "output_type": "display_data"
    }
   ],
   "source": [
    "s = open(\"Datos22.txt\").read().replace(\",\", \".\")\n",
    "t,T = transpose(loadtxt(StringIO(s)))\n",
    "DT= 0.2\n",
    "dS=DT/sqrt(12)*np.ones_like(T)\n",
    "def fit_func(t, tau,TF ,DeltaT):\n",
    "    return TF - DeltaT*exp(-t/tau)\n",
    "params,pcov22 = curve_fit(fit_func, t, T,sigma=dS, absolute_sigma=True)\n",
    "tau22, T0, DeltaT = params\n",
    "plot(t, T, \"o\")\n",
    "plot(t, fit_func(t, tau22, T0, DeltaT))\n",
    "xlabel(\"t (s)\")\n",
    "ylabel(\"T ($^\\circ$C)\")\n",
    "plt.show()"
   ]
  },
  {
   "cell_type": "code",
   "execution_count": 46,
   "metadata": {},
   "outputs": [
    {
     "name": "stdout",
     "output_type": "stream",
     "text": [
      "tau = 9.70 +/- 0.02 s\n"
     ]
    }
   ],
   "source": [
    "print(\"tau = %.2f +/- %.2f s\" % (tau22, sqrt(pcov22[0,0])))"
   ]
  },
  {
   "cell_type": "code",
   "execution_count": 5,
   "metadata": {},
   "outputs": [
    {
     "name": "stdout",
     "output_type": "stream",
     "text": [
      "tau = 9.83 +/- 0.02 s\n"
     ]
    }
   ],
   "source": [
    "\n",
    "N2 = tau12/pcov12[0,0]+tau22/pcov22[0,0]\n",
    "D2=1/pcov12[0,0]+1/pcov22[0,0]\n",
    "P2=1/sqrt(D2)\n",
    "print(\"tau = %.2f +/- %.2f s\" % (N2/D2,P2 ))\n",
    "#####Tau  videos a 1.0s######"
   ]
  },
  {
   "cell_type": "markdown",
   "metadata": {},
   "source": [
    "### Calcolo attraverso la legge di raffreddamento di Newton\n",
    "E' possibile calcolare analiticamente il valore di $\\tau$ attraverso la legge di raffreddamento di Newton $$ \\tau=\\frac{C}{hA}$$ dove \n",
    "- C é la capacitá termica del mercurio, che possiamo calolare come attraverso il calore specifico e la massa, il primo noto, la seconda ricavata dalla relazione $v\\rho = m$. Sapendo che $\\rho = 1.3\\cdot 10^4 Kg/m^3$ e, assumendo una forma cilindrica per il bulbo, dati l'altezza $ l = 11 mm $ e il diametro $d= 6 mm$ del bulbo, si ottiene che $$ C=cv\\rho$$\n",
    "- h é il coefficiente di convezione in acqua statica e vale $ 750 W/m^2K $;\n",
    "- A é la superficie del bulbo\n",
    "\n"
   ]
  },
  {
   "cell_type": "code",
   "execution_count": 35,
   "metadata": {},
   "outputs": [
    {
     "name": "stdout",
     "output_type": "stream",
     "text": [
      "tau = 3.6 s \n"
     ]
    }
   ],
   "source": [
    "c = 140\n",
    "h = 750\n",
    "r = 0.003\n",
    "l = 0.011\n",
    "rho = 1.3e4\n",
    "\n",
    "tau = c*r**2*np.pi*l*rho/(h*2*r*np.pi*l)\n",
    "print(\"tau = %.1f s \" % (tau))"
   ]
  },
  {
   "cell_type": "markdown",
   "metadata": {},
   "source": [
    "Confrontando i valori ottenuti dalle misure con il valore di $\\tau$ calcolato analiticamente notiamo che questi valori sono decisamente poco consistenti. Alla luce di questa inconsistenza ipotiziamo che il termometro con il quale abbiamo effettuato le misure non sia un termometro a mercurio. "
   ]
  },
  {
   "cell_type": "markdown",
   "metadata": {},
   "source": [
    "## 1.2 Calcolo calore specifico"
   ]
  },
  {
   "cell_type": "markdown",
   "metadata": {},
   "source": [
    "### Relazione di base\n",
    "....\n",
    "\n",
    "### Procedimento di misura\n",
    "....\n",
    "\n",
    "### Dati\n",
    "....\n"
   ]
  },
  {
   "cell_type": "code",
   "execution_count": 46,
   "metadata": {},
   "outputs": [],
   "source": [
    "Meq = 25. \n",
    "DMeq = 5.\n",
    "Ma = np.array([202., 202.8, 200.7])\n",
    "DMa = 0.1/np.sqrt(12)*np.ones_like(Ma)\n",
    "ca = 1.\n",
    "Ta = np.array([42.2, 40.8, 39.6])\n",
    "DTa = 0.2/np.sqrt(12)*np.ones_like(Ta)\n",
    "Te = np.array([40.8, 39., 38.2])\n",
    "DTe = 0.2/np.sqrt(12)*np.ones_like(Te)\n",
    "Mm = np.array([79., 73.1, 194.4])\n",
    "DMm = 0.1/np.sqrt(12)*np.ones_like(Mm)\n",
    "Tm = 28.2*np.ones_like(Ta)\n",
    "DTm = 0.2/np.sqrt(12)*np.ones_like(Tm)"
   ]
  },
  {
   "cell_type": "markdown",
   "metadata": {},
   "source": [
    "#### Calcolo"
   ]
  },
  {
   "cell_type": "code",
   "execution_count": 51,
   "metadata": {},
   "outputs": [
    {
     "name": "stdout",
     "output_type": "stream",
     "text": [
      "Calore specifico 0.32 0.52 0.16\n",
      "Incertezze 0.08 0.11 0.05\n"
     ]
    }
   ],
   "source": [
    "cm = (Meq + Ma)*ca*(Ta-Te)/(Mm*(Te-Tm))\n",
    "Dcm_Meq = ca*(Ta - Te)/(Mm*(Te-Tm))\n",
    "Dcm_Ma = ca*(Ta - Te)/(Mm*(Te-Tm))\n",
    "Dcm_Ta = (Meq+Ma)*ca/(Mm*(Te-Tm))\n",
    "Dcm_Te = (Meq + Ma)*ca/(Mm)*(Tm + Ta)/((Te- Tm)**2)\n",
    "Dcm_Mm = - (Meq + Ma)*ca*(Ta-Te)/((Te-Tm)*Mm**2)\n",
    "Dcm_Tm = (Meq + Ma)*ca*(Ta-Te)/(Mm*(Te - Tm)**2)\n",
    "Dcm = np.sqrt(Dcm_Meq**2*DMeq**2 + Dcm_Ma**2*DMa**2 + Dcm_Ta**2*DTa**2 + Dcm_Te**2*DTe**2 + Dcm_Mm**2*DMm**2 + Dcm_Tm**2*DTm**2)\n",
    "print(\"Calore specifico %.2f %.2f %.2f\" %(cm[0], cm[1], cm[2]))\n",
    "\n",
    "print(\"Incertezze %.2f %.2f %.2f\" %(Dcm[0], Dcm[1], Dcm[2]))"
   ]
  },
  {
   "cell_type": "markdown",
   "metadata": {},
   "source": [
    "### Conclusioni\n",
    "..."
   ]
  },
  {
   "cell_type": "markdown",
   "metadata": {},
   "source": [
    "## 1.3 Calcolo del calore latente di fusione del ghiaccio\n",
    "### Relazione di base\n",
    "....\n",
    "\n",
    "### Procedimento di misura\n",
    "....\n",
    "\n",
    "### Dati\n",
    "....\n"
   ]
  },
  {
   "cell_type": "code",
   "execution_count": null,
   "metadata": {},
   "outputs": [],
   "source": [
    "Ma = 200.5\n"
   ]
  }
 ],
 "metadata": {
  "file_extension": ".py",
  "kernelspec": {
   "display_name": "Python 3",
   "language": "python",
   "name": "python3"
  },
  "language_info": {
   "codemirror_mode": {
    "name": "ipython",
    "version": 3
   },
   "file_extension": ".py",
   "mimetype": "text/x-python",
   "name": "python",
   "nbconvert_exporter": "python",
   "pygments_lexer": "ipython3",
   "version": "3.7.4"
  },
  "mimetype": "text/x-python",
  "name": "python",
  "npconvert_exporter": "python",
  "pygments_lexer": "ipython3",
  "version": 3
 },
 "nbformat": 4,
 "nbformat_minor": 2
}
